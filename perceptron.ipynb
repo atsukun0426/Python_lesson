{
 "cells": [
  {
   "cell_type": "code",
   "execution_count": 1,
   "id": "b305b9f6-8553-402d-82b1-facec53ca619",
   "metadata": {},
   "outputs": [],
   "source": [
    "import numpy as np"
   ]
  },
  {
   "cell_type": "code",
   "execution_count": 6,
   "id": "024cf2f2-5cb9-4095-b270-c3fd3c4481e0",
   "metadata": {},
   "outputs": [],
   "source": [
    "x = np.array([0, 1])\n",
    "w = np.array([0.5, 0.5])\n",
    "b = -0.7"
   ]
  },
  {
   "cell_type": "code",
   "execution_count": 8,
   "id": "c25209da-346b-48b0-aef3-8e5e74742bbc",
   "metadata": {},
   "outputs": [
    {
     "data": {
      "text/plain": [
       "array([0. , 0.5])"
      ]
     },
     "execution_count": 8,
     "metadata": {},
     "output_type": "execute_result"
    }
   ],
   "source": [
    "w * x"
   ]
  },
  {
   "cell_type": "raw",
   "id": "e9f09f14-b45f-47d4-a61f-fb3de17e221e",
   "metadata": {},
   "source": [
    "np.sum(w * x)"
   ]
  },
  {
   "cell_type": "code",
   "execution_count": 9,
   "id": "f7f6e9f5-fd21-43cd-8b06-b29d27aa70da",
   "metadata": {},
   "outputs": [
    {
     "data": {
      "text/plain": [
       "-0.19999999999999996"
      ]
     },
     "execution_count": 9,
     "metadata": {},
     "output_type": "execute_result"
    }
   ],
   "source": [
    "np.sum(w * x) + b"
   ]
  },
  {
   "cell_type": "code",
   "execution_count": null,
   "id": "e6b0a1dc-210b-47f6-8522-a9059c141118",
   "metadata": {},
   "outputs": [],
   "source": []
  }
 ],
 "metadata": {
  "kernelspec": {
   "display_name": "Python 3",
   "language": "python",
   "name": "python3"
  },
  "language_info": {
   "codemirror_mode": {
    "name": "ipython",
    "version": 3
   },
   "file_extension": ".py",
   "mimetype": "text/x-python",
   "name": "python",
   "nbconvert_exporter": "python",
   "pygments_lexer": "ipython3",
   "version": "3.8.8"
  }
 },
 "nbformat": 4,
 "nbformat_minor": 5
}
